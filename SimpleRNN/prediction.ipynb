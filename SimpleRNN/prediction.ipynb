{
 "cells": [
  {
   "cell_type": "code",
   "execution_count": 7,
   "id": "0b218c74",
   "metadata": {},
   "outputs": [],
   "source": [
    "import numpy as np\n",
    "import tensorflow as tf\n",
    "from tensorflow.keras.datasets import imdb\n",
    "from tensorflow.keras.preprocessing import sequence\n",
    "from  tensorflow.keras.models import Sequential\n",
    "from tensorflow.keras.layers import Embedding, SimpleRNN, Dense\n",
    "from tensorflow.keras.models import load_model"
   ]
  },
  {
   "cell_type": "code",
   "execution_count": 14,
   "id": "7f16fa36",
   "metadata": {},
   "outputs": [],
   "source": [
    "##mapping the numbers to words (understanding the data)\n",
    "\n",
    "word_index = imdb.get_word_index()\n",
    "reverse_word_index = {k: (v + 3) for k, v in word_index.items()} "
   ]
  },
  {
   "cell_type": "code",
   "execution_count": 15,
   "id": "d8cceded",
   "metadata": {},
   "outputs": [
    {
     "name": "stderr",
     "output_type": "stream",
     "text": [
      "WARNING:absl:Compiled the loaded model, but the compiled metrics have yet to be built. `model.compile_metrics` will be empty until you train or evaluate the model.\n"
     ]
    },
    {
     "data": {
      "text/html": [
       "<pre style=\"white-space:pre;overflow-x:auto;line-height:normal;font-family:Menlo,'DejaVu Sans Mono',consolas,'Courier New',monospace\"><span style=\"font-weight: bold\">Model: \"sequential_4\"</span>\n",
       "</pre>\n"
      ],
      "text/plain": [
       "\u001b[1mModel: \"sequential_4\"\u001b[0m\n"
      ]
     },
     "metadata": {},
     "output_type": "display_data"
    },
    {
     "data": {
      "text/html": [
       "<pre style=\"white-space:pre;overflow-x:auto;line-height:normal;font-family:Menlo,'DejaVu Sans Mono',consolas,'Courier New',monospace\">┏━━━━━━━━━━━━━━━━━━━━━━━━━━━━━━━━━┳━━━━━━━━━━━━━━━━━━━━━━━━┳━━━━━━━━━━━━━━━┓\n",
       "┃<span style=\"font-weight: bold\"> Layer (type)                    </span>┃<span style=\"font-weight: bold\"> Output Shape           </span>┃<span style=\"font-weight: bold\">       Param # </span>┃\n",
       "┡━━━━━━━━━━━━━━━━━━━━━━━━━━━━━━━━━╇━━━━━━━━━━━━━━━━━━━━━━━━╇━━━━━━━━━━━━━━━┩\n",
       "│ embedding_4 (<span style=\"color: #0087ff; text-decoration-color: #0087ff\">Embedding</span>)         │ (<span style=\"color: #00d7ff; text-decoration-color: #00d7ff\">None</span>, <span style=\"color: #00af00; text-decoration-color: #00af00\">500</span>, <span style=\"color: #00af00; text-decoration-color: #00af00\">128</span>)       │     <span style=\"color: #00af00; text-decoration-color: #00af00\">1,280,000</span> │\n",
       "├─────────────────────────────────┼────────────────────────┼───────────────┤\n",
       "│ simple_rnn_4 (<span style=\"color: #0087ff; text-decoration-color: #0087ff\">SimpleRNN</span>)        │ (<span style=\"color: #00d7ff; text-decoration-color: #00d7ff\">None</span>, <span style=\"color: #00af00; text-decoration-color: #00af00\">128</span>)            │        <span style=\"color: #00af00; text-decoration-color: #00af00\">32,896</span> │\n",
       "├─────────────────────────────────┼────────────────────────┼───────────────┤\n",
       "│ dense_4 (<span style=\"color: #0087ff; text-decoration-color: #0087ff\">Dense</span>)                 │ (<span style=\"color: #00d7ff; text-decoration-color: #00d7ff\">None</span>, <span style=\"color: #00af00; text-decoration-color: #00af00\">1</span>)              │           <span style=\"color: #00af00; text-decoration-color: #00af00\">129</span> │\n",
       "└─────────────────────────────────┴────────────────────────┴───────────────┘\n",
       "</pre>\n"
      ],
      "text/plain": [
       "┏━━━━━━━━━━━━━━━━━━━━━━━━━━━━━━━━━┳━━━━━━━━━━━━━━━━━━━━━━━━┳━━━━━━━━━━━━━━━┓\n",
       "┃\u001b[1m \u001b[0m\u001b[1mLayer (type)                   \u001b[0m\u001b[1m \u001b[0m┃\u001b[1m \u001b[0m\u001b[1mOutput Shape          \u001b[0m\u001b[1m \u001b[0m┃\u001b[1m \u001b[0m\u001b[1m      Param #\u001b[0m\u001b[1m \u001b[0m┃\n",
       "┡━━━━━━━━━━━━━━━━━━━━━━━━━━━━━━━━━╇━━━━━━━━━━━━━━━━━━━━━━━━╇━━━━━━━━━━━━━━━┩\n",
       "│ embedding_4 (\u001b[38;5;33mEmbedding\u001b[0m)         │ (\u001b[38;5;45mNone\u001b[0m, \u001b[38;5;34m500\u001b[0m, \u001b[38;5;34m128\u001b[0m)       │     \u001b[38;5;34m1,280,000\u001b[0m │\n",
       "├─────────────────────────────────┼────────────────────────┼───────────────┤\n",
       "│ simple_rnn_4 (\u001b[38;5;33mSimpleRNN\u001b[0m)        │ (\u001b[38;5;45mNone\u001b[0m, \u001b[38;5;34m128\u001b[0m)            │        \u001b[38;5;34m32,896\u001b[0m │\n",
       "├─────────────────────────────────┼────────────────────────┼───────────────┤\n",
       "│ dense_4 (\u001b[38;5;33mDense\u001b[0m)                 │ (\u001b[38;5;45mNone\u001b[0m, \u001b[38;5;34m1\u001b[0m)              │           \u001b[38;5;34m129\u001b[0m │\n",
       "└─────────────────────────────────┴────────────────────────┴───────────────┘\n"
      ]
     },
     "metadata": {},
     "output_type": "display_data"
    },
    {
     "data": {
      "text/html": [
       "<pre style=\"white-space:pre;overflow-x:auto;line-height:normal;font-family:Menlo,'DejaVu Sans Mono',consolas,'Courier New',monospace\"><span style=\"font-weight: bold\"> Total params: </span><span style=\"color: #00af00; text-decoration-color: #00af00\">1,313,027</span> (5.01 MB)\n",
       "</pre>\n"
      ],
      "text/plain": [
       "\u001b[1m Total params: \u001b[0m\u001b[38;5;34m1,313,027\u001b[0m (5.01 MB)\n"
      ]
     },
     "metadata": {},
     "output_type": "display_data"
    },
    {
     "data": {
      "text/html": [
       "<pre style=\"white-space:pre;overflow-x:auto;line-height:normal;font-family:Menlo,'DejaVu Sans Mono',consolas,'Courier New',monospace\"><span style=\"font-weight: bold\"> Trainable params: </span><span style=\"color: #00af00; text-decoration-color: #00af00\">1,313,025</span> (5.01 MB)\n",
       "</pre>\n"
      ],
      "text/plain": [
       "\u001b[1m Trainable params: \u001b[0m\u001b[38;5;34m1,313,025\u001b[0m (5.01 MB)\n"
      ]
     },
     "metadata": {},
     "output_type": "display_data"
    },
    {
     "data": {
      "text/html": [
       "<pre style=\"white-space:pre;overflow-x:auto;line-height:normal;font-family:Menlo,'DejaVu Sans Mono',consolas,'Courier New',monospace\"><span style=\"font-weight: bold\"> Non-trainable params: </span><span style=\"color: #00af00; text-decoration-color: #00af00\">0</span> (0.00 B)\n",
       "</pre>\n"
      ],
      "text/plain": [
       "\u001b[1m Non-trainable params: \u001b[0m\u001b[38;5;34m0\u001b[0m (0.00 B)\n"
      ]
     },
     "metadata": {},
     "output_type": "display_data"
    },
    {
     "data": {
      "text/html": [
       "<pre style=\"white-space:pre;overflow-x:auto;line-height:normal;font-family:Menlo,'DejaVu Sans Mono',consolas,'Courier New',monospace\"><span style=\"font-weight: bold\"> Optimizer params: </span><span style=\"color: #00af00; text-decoration-color: #00af00\">2</span> (12.00 B)\n",
       "</pre>\n"
      ],
      "text/plain": [
       "\u001b[1m Optimizer params: \u001b[0m\u001b[38;5;34m2\u001b[0m (12.00 B)\n"
      ]
     },
     "metadata": {},
     "output_type": "display_data"
    }
   ],
   "source": [
    "model = load_model('simplernn_model.h5')  # Load the saved model weights\n",
    "model.summary()  # Display the model summary    "
   ]
  },
  {
   "cell_type": "code",
   "execution_count": 16,
   "id": "02532723",
   "metadata": {},
   "outputs": [
    {
     "data": {
      "text/plain": [
       "[array([[-0.17156263, -0.4445529 , -0.52548486, ...,  0.24936026,\n",
       "         -0.30969432,  0.50671005],\n",
       "        [ 0.02310221, -0.0500975 , -0.00919366, ..., -0.01049639,\n",
       "         -0.09205503, -0.02936696],\n",
       "        [-0.02329468,  0.03005279,  0.10002063, ...,  0.13557588,\n",
       "         -0.09723417, -0.04796648],\n",
       "        ...,\n",
       "        [-0.11723021, -0.04561007, -0.017523  , ..., -0.07887749,\n",
       "          0.06230444,  0.05020914],\n",
       "        [-0.02449443,  0.01861173, -0.02981316, ...,  0.03269636,\n",
       "          0.0143564 ,  0.09182479],\n",
       "        [-0.07538273,  0.05301749,  0.03822587, ..., -0.08585471,\n",
       "          0.0606235 , -0.0090945 ]], dtype=float32),\n",
       " array([[ 0.00293779,  0.0420474 , -0.05236541, ...,  0.07321029,\n",
       "          0.17474887,  0.15359169],\n",
       "        [ 0.10039688, -0.15008546, -0.08668742, ...,  0.05851542,\n",
       "         -0.09298278, -0.10638091],\n",
       "        [-0.12242852,  0.13409519,  0.08734833, ...,  0.09670763,\n",
       "         -0.09645714,  0.09376309],\n",
       "        ...,\n",
       "        [-0.1418494 , -0.0976768 , -0.15679763, ..., -0.13357586,\n",
       "          0.06519962, -0.00910573],\n",
       "        [-0.14589185,  0.09176768, -0.10868431, ...,  0.1288658 ,\n",
       "          0.01435918,  0.0398046 ],\n",
       "        [-0.08867703, -0.1197359 , -0.10743926, ..., -0.03868333,\n",
       "          0.08681733, -0.00501427]], dtype=float32),\n",
       " array([[ 0.16589978, -0.04165341,  0.04091706, ..., -0.05755663,\n",
       "         -0.02870613, -0.18625334],\n",
       "        [ 0.06493333, -0.18817346, -0.05642562, ...,  0.03309536,\n",
       "         -0.04075817,  0.04217046],\n",
       "        [-0.04086946, -0.07080866, -0.14380527, ..., -0.04746863,\n",
       "         -0.11788751, -0.08315712],\n",
       "        ...,\n",
       "        [ 0.06499802, -0.00209372,  0.10602094, ...,  0.08763751,\n",
       "          0.00572486, -0.07041544],\n",
       "        [-0.00717865, -0.03023589, -0.08592159, ...,  0.07862233,\n",
       "         -0.15424938, -0.03352169],\n",
       "        [-0.09278049, -0.13915645, -0.0601571 , ...,  0.12477361,\n",
       "         -0.03226124,  0.10050382]], dtype=float32),\n",
       " array([-1.88345835e-02, -1.44029791e-02, -2.19086912e-02, -1.80391241e-02,\n",
       "         1.91963706e-02, -2.39556842e-02, -2.63190940e-02,  7.76252942e-03,\n",
       "        -2.67219846e-04, -2.46707071e-02, -1.76836140e-02, -7.38915335e-03,\n",
       "        -1.71477254e-02,  1.66539401e-02, -7.62373966e-05, -7.21840467e-03,\n",
       "        -4.41927603e-03,  2.14434545e-02, -3.34985778e-02, -2.68964376e-02,\n",
       "         1.25904717e-02, -9.97600798e-03, -8.63274653e-03, -1.75205842e-02,\n",
       "        -1.22262323e-02,  8.53968970e-03, -1.91175216e-03,  1.87791865e-02,\n",
       "         2.76380703e-02, -1.67640951e-02, -2.91646738e-02,  1.34188142e-02,\n",
       "        -7.83038512e-03,  1.19466754e-02,  7.69216707e-03,  9.05420631e-03,\n",
       "         1.07526025e-02, -9.84108727e-03, -3.61934192e-02, -1.89836863e-02,\n",
       "        -1.26981111e-02, -1.95637308e-02,  1.86238382e-02, -1.77127239e-03,\n",
       "         9.44405328e-03, -2.15779617e-02,  2.11636685e-02, -1.41679375e-02,\n",
       "        -3.53515409e-02, -1.45610897e-02,  3.31124403e-02, -1.58651639e-02,\n",
       "        -1.23432670e-02,  5.16341394e-03,  1.67414732e-02, -3.70389633e-02,\n",
       "         1.56306922e-02, -1.04161641e-02, -2.31063552e-02, -1.03728315e-02,\n",
       "         1.43316742e-02, -2.95917522e-02,  1.26791159e-02,  9.79813840e-03,\n",
       "         6.48051919e-03, -1.75779616e-03,  8.28599464e-03, -7.17763882e-03,\n",
       "        -9.30425897e-03, -1.83294229e-02, -1.67546291e-02, -2.03232616e-02,\n",
       "        -2.19513327e-02,  6.04332332e-03, -3.36338244e-02, -4.12505232e-02,\n",
       "         6.69371486e-02, -2.05764528e-02,  9.39723031e-05,  1.38360746e-02,\n",
       "        -1.24046551e-02,  5.88806253e-03, -1.56007931e-02, -2.50954423e-02,\n",
       "        -2.93436460e-02, -3.59912515e-02, -2.27861665e-02, -3.07077030e-03,\n",
       "         1.11479033e-03, -1.91752929e-02, -1.89490207e-02,  5.31307003e-03,\n",
       "        -2.48491229e-03,  4.11077887e-02,  3.03448774e-02, -1.51696699e-02,\n",
       "         1.17574958e-03, -2.32284162e-02, -9.66377649e-03, -1.54582458e-02,\n",
       "         1.84143204e-02, -1.96727253e-02, -1.88948642e-02, -1.98708437e-02,\n",
       "        -2.01971866e-02, -1.32391984e-02, -3.51077057e-02,  1.00979712e-02,\n",
       "         1.63834561e-02, -2.52716150e-02, -2.41772346e-02, -1.64159853e-02,\n",
       "        -3.28493491e-02,  1.79236829e-02,  6.41274964e-04,  2.35710777e-02,\n",
       "         2.33154148e-02,  1.35912746e-02,  4.98654833e-03,  1.61124133e-02,\n",
       "        -2.57682409e-02, -2.98307594e-02,  1.71859339e-02,  1.56438090e-02,\n",
       "        -3.44920717e-02, -1.49322515e-02, -6.62513962e-03, -2.19962690e-02],\n",
       "       dtype=float32),\n",
       " array([[-0.034729  ],\n",
       "        [ 0.1413375 ],\n",
       "        [ 0.21401647],\n",
       "        [-0.35555583],\n",
       "        [ 0.06830635],\n",
       "        [ 0.05640673],\n",
       "        [-0.05439785],\n",
       "        [-0.32305473],\n",
       "        [-0.03063657],\n",
       "        [-0.15666819],\n",
       "        [-0.07990166],\n",
       "        [ 0.12817556],\n",
       "        [-0.4026197 ],\n",
       "        [-0.08420258],\n",
       "        [ 0.19044289],\n",
       "        [ 0.02390496],\n",
       "        [-0.29574275],\n",
       "        [-0.08957618],\n",
       "        [ 0.06265695],\n",
       "        [ 0.05332408],\n",
       "        [-0.02825407],\n",
       "        [-0.13300526],\n",
       "        [-0.17206408],\n",
       "        [-0.12536567],\n",
       "        [-0.03389743],\n",
       "        [-0.01320851],\n",
       "        [-0.41793364],\n",
       "        [ 0.6156636 ],\n",
       "        [-0.21072407],\n",
       "        [ 0.13946357],\n",
       "        [ 0.14891466],\n",
       "        [-0.18384996],\n",
       "        [ 0.21924558],\n",
       "        [ 0.17625134],\n",
       "        [ 0.52484816],\n",
       "        [ 0.01399677],\n",
       "        [-0.17162198],\n",
       "        [ 0.18192182],\n",
       "        [ 0.07216618],\n",
       "        [-0.13281262],\n",
       "        [-0.02786864],\n",
       "        [ 0.35444003],\n",
       "        [-0.04342585],\n",
       "        [ 0.1855019 ],\n",
       "        [ 0.14828764],\n",
       "        [-0.05407213],\n",
       "        [-0.06730515],\n",
       "        [ 0.45612478],\n",
       "        [-0.12724744],\n",
       "        [-0.194302  ],\n",
       "        [-0.36244977],\n",
       "        [ 0.04412181],\n",
       "        [ 0.12024639],\n",
       "        [-0.21212934],\n",
       "        [ 0.22640654],\n",
       "        [ 0.15332319],\n",
       "        [-0.24763675],\n",
       "        [-0.17229825],\n",
       "        [ 0.07466482],\n",
       "        [ 0.23254375],\n",
       "        [-0.34716853],\n",
       "        [ 0.03023226],\n",
       "        [ 0.1684386 ],\n",
       "        [-0.12573679],\n",
       "        [ 0.22375338],\n",
       "        [ 0.16918527],\n",
       "        [ 0.02103115],\n",
       "        [ 0.21309704],\n",
       "        [-0.1778749 ],\n",
       "        [ 0.09772617],\n",
       "        [-0.23600033],\n",
       "        [ 0.22152007],\n",
       "        [ 0.05272425],\n",
       "        [ 0.05625392],\n",
       "        [ 0.00508875],\n",
       "        [ 0.07671853],\n",
       "        [ 0.3068596 ],\n",
       "        [ 0.196644  ],\n",
       "        [-0.08426104],\n",
       "        [-0.28704908],\n",
       "        [ 0.33092391],\n",
       "        [-0.06323574],\n",
       "        [-0.02105704],\n",
       "        [-0.2532457 ],\n",
       "        [ 0.18902463],\n",
       "        [ 0.22816487],\n",
       "        [ 0.08900861],\n",
       "        [ 0.13030036],\n",
       "        [ 0.11956906],\n",
       "        [-0.05059035],\n",
       "        [ 0.04502525],\n",
       "        [ 0.01896952],\n",
       "        [ 0.30170882],\n",
       "        [-0.24741086],\n",
       "        [ 0.1006192 ],\n",
       "        [ 0.39444926],\n",
       "        [ 0.2755059 ],\n",
       "        [ 0.4713509 ],\n",
       "        [ 0.04622271],\n",
       "        [-0.33774248],\n",
       "        [-0.00516842],\n",
       "        [ 0.18553355],\n",
       "        [-0.01078379],\n",
       "        [-0.18141639],\n",
       "        [-0.08716227],\n",
       "        [ 0.16618066],\n",
       "        [ 0.102977  ],\n",
       "        [ 0.11082526],\n",
       "        [-0.20426896],\n",
       "        [ 0.02909407],\n",
       "        [ 0.1085849 ],\n",
       "        [ 0.01327804],\n",
       "        [ 0.14900957],\n",
       "        [ 0.15757516],\n",
       "        [ 0.08873   ],\n",
       "        [ 0.22074287],\n",
       "        [-0.02078424],\n",
       "        [-0.16894394],\n",
       "        [-0.2699358 ],\n",
       "        [-0.14998944],\n",
       "        [-0.03199545],\n",
       "        [-0.17098932],\n",
       "        [-0.06762788],\n",
       "        [ 0.10016741],\n",
       "        [ 0.14097849],\n",
       "        [ 0.1470831 ],\n",
       "        [ 0.08007804],\n",
       "        [ 0.01873109]], dtype=float32),\n",
       " array([0.20599817], dtype=float32)]"
      ]
     },
     "execution_count": 16,
     "metadata": {},
     "output_type": "execute_result"
    }
   ],
   "source": [
    "model.get_weights()"
   ]
  },
  {
   "cell_type": "code",
   "execution_count": 17,
   "id": "8248b396",
   "metadata": {},
   "outputs": [],
   "source": [
    "def decode_review(encoded_review):\n",
    "    return ' '.join([reverse_word_index.get(i - 3, '?') for i in encoded_review])\n",
    "\n",
    "def preprocess_text(text):\n",
    "    words = text.lower().split()\n",
    "    encoded_review = [word_index.get(word, 2) + 3 for word in words]  # 2 is the index for OOV (out of vocabulary)\n",
    "    padded_review = sequence.pad_sequences([encoded_review], maxlen=500)  # Pad to the same length as training data\n",
    "    return padded_review"
   ]
  },
  {
   "cell_type": "code",
   "execution_count": 18,
   "id": "893e1c6e",
   "metadata": {},
   "outputs": [],
   "source": [
    "##predicting the sentiment of a review\n",
    "\n",
    "def predict_sentiment(review):\n",
    "    preprocessed_review = preprocess_text(review)\n",
    "    model.predict(preprocessed_review)\n",
    "    sentiment = model.predict(preprocessed_review)[0][0]\n",
    "    if sentiment > 0.5:\n",
    "        return \"Positive\"\n",
    "    else:\n",
    "        return \"Negative\"\n",
    "    return sentiment "
   ]
  },
  {
   "cell_type": "code",
   "execution_count": 22,
   "id": "37662395",
   "metadata": {},
   "outputs": [
    {
     "name": "stdout",
     "output_type": "stream",
     "text": [
      "\u001b[1m1/1\u001b[0m \u001b[32m━━━━━━━━━━━━━━━━━━━━\u001b[0m\u001b[37m\u001b[0m \u001b[1m0s\u001b[0m 44ms/step\n",
      "\u001b[1m1/1\u001b[0m \u001b[32m━━━━━━━━━━━━━━━━━━━━\u001b[0m\u001b[37m\u001b[0m \u001b[1m0s\u001b[0m 42ms/step\n",
      "Review: This movie was fantastic! I loved the plot and the acting.\n",
      "Sentiment: Positive\n"
     ]
    }
   ],
   "source": [
    "example_review = \"This movie was fantastic! I loved the plot and the acting.\"\n",
    "sentiment = predict_sentiment(example_review)\n",
    "\n",
    "print(f\"Review: {example_review}\")\n",
    "print(f\"Sentiment: {sentiment}\")   "
   ]
  },
  {
   "cell_type": "code",
   "execution_count": null,
   "id": "794e5719",
   "metadata": {},
   "outputs": [],
   "source": [
    "    "
   ]
  }
 ],
 "metadata": {
  "kernelspec": {
   "display_name": "Python 3",
   "language": "python",
   "name": "python3"
  },
  "language_info": {
   "codemirror_mode": {
    "name": "ipython",
    "version": 3
   },
   "file_extension": ".py",
   "mimetype": "text/x-python",
   "name": "python",
   "nbconvert_exporter": "python",
   "pygments_lexer": "ipython3",
   "version": "3.12.0"
  }
 },
 "nbformat": 4,
 "nbformat_minor": 5
}
